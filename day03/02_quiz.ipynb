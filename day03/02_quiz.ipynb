{
 "cells": [
  {
   "cell_type": "raw",
   "id": "e8e9bd72-7d03-4f9b-ac1b-ccc19473d183",
   "metadata": {},
   "source": [
    "데이터 저장은 딕셔너리로.. {'메뉴명':가격,'coffe':2000}\n",
    "프로그램에서 사용할 메뉴\n",
    "1. 메뉴입력 2.메뉴수정 3.메뉴목록 4.메뉴삭제 5.프로그램종료\n",
    "- 메뉴입력 : 메뉴명과 가격을 입력받아서 저장\n",
    "- 메뉴수정 : 메뉴명을 확인하고 있는 메뉴에 가격을 입력받아 수정\n",
    "- 메뉴목록 : 저장된 메뉴명과 가격을 출력(천단위구분기호표기),메뉴명 순서대로 출력\n",
    "- 메뉴삭제 : 메뉴명을 확인하고 있는 메뉴에서 삭제\n",
    "- 프로그램 종료 : 프로그램을 종료하는 메시지를 출력하고 종료\n",
    "- 메뉴1~5까지만 입력받고 다른 값이 들어오면 관련 에러 메시지를 출력한다.\n",
    "- 가격은 숫자로 입력해야됨"
   ]
  },
  {
   "cell_type": "code",
   "execution_count": 20,
   "id": "f7ac3bd7-e242-4b66-8c34-1bc77fa9f5c2",
   "metadata": {
    "tags": []
   },
   "outputs": [
    {
     "name": "stdin",
     "output_type": "stream",
     "text": [
      "\n",
      "-------------------------------------------------------------------\n",
      "1. 메뉴입력  2. 메뉴수정  3. 메뉴목록  4. 메뉴삭제  5. 프로그램종료\n",
      "-------------------------------------------------------------------\n",
      "메뉴선택 >>>  1\n"
     ]
    },
    {
     "name": "stdout",
     "output_type": "stream",
     "text": [
      "현재메뉴 :  ['아이스아메리카노', '라떼', '코코아']\n"
     ]
    },
    {
     "name": "stdin",
     "output_type": "stream",
     "text": [
      "추가할 메뉴명을 입력하세요 >>> 5\n"
     ]
    },
    {
     "ename": "KeyboardInterrupt",
     "evalue": "Interrupted by user",
     "output_type": "error",
     "traceback": [
      "\u001b[1;31m---------------------------------------------------------------------------\u001b[0m",
      "\u001b[1;31mKeyboardInterrupt\u001b[0m                         Traceback (most recent call last)",
      "Input \u001b[1;32mIn [20]\u001b[0m, in \u001b[0;36m<cell line: 3>\u001b[1;34m()\u001b[0m\n\u001b[0;32m     11\u001b[0m     price \u001b[38;5;241m=\u001b[39m \u001b[38;5;124m'\u001b[39m\u001b[38;5;124ma\u001b[39m\u001b[38;5;124m'\u001b[39m\n\u001b[0;32m     12\u001b[0m     \u001b[38;5;28;01mwhile\u001b[39;00m \u001b[38;5;129;01mnot\u001b[39;00m price\u001b[38;5;241m.\u001b[39misdecimal():\n\u001b[1;32m---> 13\u001b[0m         price \u001b[38;5;241m=\u001b[39m \u001b[38;5;28;43minput\u001b[39;49m\u001b[43m(\u001b[49m\u001b[38;5;124;43m'\u001b[39;49m\u001b[38;5;124;43m추가할 메뉴의 가격을 입력하세요 >>>\u001b[39;49m\u001b[38;5;124;43m'\u001b[39;49m\u001b[43m)\u001b[49m\n\u001b[0;32m     14\u001b[0m     menu[name] \u001b[38;5;241m=\u001b[39m \u001b[38;5;28mint\u001b[39m(price)\n\u001b[0;32m     15\u001b[0m \u001b[38;5;28;01melif\u001b[39;00m choice \u001b[38;5;241m==\u001b[39m \u001b[38;5;124m'\u001b[39m\u001b[38;5;124m2\u001b[39m\u001b[38;5;124m'\u001b[39m:\n",
      "File \u001b[1;32m~\\anaconda3\\lib\\site-packages\\ipykernel\\kernelbase.py:1075\u001b[0m, in \u001b[0;36mKernel.raw_input\u001b[1;34m(self, prompt)\u001b[0m\n\u001b[0;32m   1071\u001b[0m \u001b[38;5;28;01mif\u001b[39;00m \u001b[38;5;129;01mnot\u001b[39;00m \u001b[38;5;28mself\u001b[39m\u001b[38;5;241m.\u001b[39m_allow_stdin:\n\u001b[0;32m   1072\u001b[0m     \u001b[38;5;28;01mraise\u001b[39;00m StdinNotImplementedError(\n\u001b[0;32m   1073\u001b[0m         \u001b[38;5;124m\"\u001b[39m\u001b[38;5;124mraw_input was called, but this frontend does not support input requests.\u001b[39m\u001b[38;5;124m\"\u001b[39m\n\u001b[0;32m   1074\u001b[0m     )\n\u001b[1;32m-> 1075\u001b[0m \u001b[38;5;28;01mreturn\u001b[39;00m \u001b[38;5;28;43mself\u001b[39;49m\u001b[38;5;241;43m.\u001b[39;49m\u001b[43m_input_request\u001b[49m\u001b[43m(\u001b[49m\n\u001b[0;32m   1076\u001b[0m \u001b[43m    \u001b[49m\u001b[38;5;28;43mstr\u001b[39;49m\u001b[43m(\u001b[49m\u001b[43mprompt\u001b[49m\u001b[43m)\u001b[49m\u001b[43m,\u001b[49m\n\u001b[0;32m   1077\u001b[0m \u001b[43m    \u001b[49m\u001b[38;5;28;43mself\u001b[39;49m\u001b[38;5;241;43m.\u001b[39;49m\u001b[43m_parent_ident\u001b[49m\u001b[43m[\u001b[49m\u001b[38;5;124;43m\"\u001b[39;49m\u001b[38;5;124;43mshell\u001b[39;49m\u001b[38;5;124;43m\"\u001b[39;49m\u001b[43m]\u001b[49m\u001b[43m,\u001b[49m\n\u001b[0;32m   1078\u001b[0m \u001b[43m    \u001b[49m\u001b[38;5;28;43mself\u001b[39;49m\u001b[38;5;241;43m.\u001b[39;49m\u001b[43mget_parent\u001b[49m\u001b[43m(\u001b[49m\u001b[38;5;124;43m\"\u001b[39;49m\u001b[38;5;124;43mshell\u001b[39;49m\u001b[38;5;124;43m\"\u001b[39;49m\u001b[43m)\u001b[49m\u001b[43m,\u001b[49m\n\u001b[0;32m   1079\u001b[0m \u001b[43m    \u001b[49m\u001b[43mpassword\u001b[49m\u001b[38;5;241;43m=\u001b[39;49m\u001b[38;5;28;43;01mFalse\u001b[39;49;00m\u001b[43m,\u001b[49m\n\u001b[0;32m   1080\u001b[0m \u001b[43m\u001b[49m\u001b[43m)\u001b[49m\n",
      "File \u001b[1;32m~\\anaconda3\\lib\\site-packages\\ipykernel\\kernelbase.py:1120\u001b[0m, in \u001b[0;36mKernel._input_request\u001b[1;34m(self, prompt, ident, parent, password)\u001b[0m\n\u001b[0;32m   1117\u001b[0m             \u001b[38;5;28;01mbreak\u001b[39;00m\n\u001b[0;32m   1118\u001b[0m \u001b[38;5;28;01mexcept\u001b[39;00m \u001b[38;5;167;01mKeyboardInterrupt\u001b[39;00m:\n\u001b[0;32m   1119\u001b[0m     \u001b[38;5;66;03m# re-raise KeyboardInterrupt, to truncate traceback\u001b[39;00m\n\u001b[1;32m-> 1120\u001b[0m     \u001b[38;5;28;01mraise\u001b[39;00m \u001b[38;5;167;01mKeyboardInterrupt\u001b[39;00m(\u001b[38;5;124m\"\u001b[39m\u001b[38;5;124mInterrupted by user\u001b[39m\u001b[38;5;124m\"\u001b[39m) \u001b[38;5;28;01mfrom\u001b[39;00m \u001b[38;5;28mNone\u001b[39m\n\u001b[0;32m   1121\u001b[0m \u001b[38;5;28;01mexcept\u001b[39;00m \u001b[38;5;167;01mException\u001b[39;00m:\n\u001b[0;32m   1122\u001b[0m     \u001b[38;5;28mself\u001b[39m\u001b[38;5;241m.\u001b[39mlog\u001b[38;5;241m.\u001b[39mwarning(\u001b[38;5;124m\"\u001b[39m\u001b[38;5;124mInvalid Message:\u001b[39m\u001b[38;5;124m\"\u001b[39m, exc_info\u001b[38;5;241m=\u001b[39m\u001b[38;5;28;01mTrue\u001b[39;00m)\n",
      "\u001b[1;31mKeyboardInterrupt\u001b[0m: Interrupted by user"
     ]
    },
    {
     "name": "stdin",
     "output_type": "stream",
     "text": [
      "추가할 메뉴의 가격을 입력하세요 >>> 5500\n"
     ]
    }
   ],
   "source": [
    "menu = {'아이스아메리카노':3000, '라떼':4000, '코코아':3500}\n",
    "while True:\n",
    "    choice = input('''\n",
    "-------------------------------------------------------------------\n",
    "1. 메뉴입력  2. 메뉴수정  3. 메뉴목록  4. 메뉴삭제  5. 프로그램종료\n",
    "-------------------------------------------------------------------\n",
    "메뉴선택 >>> ''')\n",
    "    if choice == '1':\n",
    "        print('현재메뉴 : ',list(menu.keys()))\n",
    "        name = input('추가할 메뉴명을 입력하세요 >>>')\n",
    "        price = 'a'\n",
    "        while not price.isdecimal():\n",
    "            price = input('추가할 메뉴의 가격을 입력하세요 >>>')\n",
    "        menu[name] = int(price)\n",
    "    elif choice == '2':\n",
    "        print('현재메뉴 : ',list(menu.keys()))\n",
    "        name = ''\n",
    "        while not name in menu.keys():\n",
    "            name = input('수정할 메뉴명을 입력하세요 >>>')\n",
    "        price = 'a'\n",
    "        while not price.isdecimal():\n",
    "            price = input('수정할 메뉴의 가격을 입력하세요 >>>')\n",
    "        menu[name] = int(price)\n",
    "    elif choice == '3':\n",
    "        print('------  menu  ------')\n",
    "        for item in sorted(menu.items(), key=lambda data:data[1],reverse=True):\n",
    "            print(f'{item[0]} : {item[1]:,}')\n",
    "    elif choice == '4':\n",
    "        print('현재메뉴 : ',list(menu.keys()))\n",
    "        name = ''\n",
    "        while not name in menu.keys():\n",
    "            name = input('삭제할 메뉴명을 입력하세요 >>>')\n",
    "        del menu[name]\n",
    "    elif choice == '5':\n",
    "        print('프로그램을 종료합니다.')\n",
    "        break\n",
    "    else:\n",
    "        print('메뉴를 잘못 선택 하셨습니다.')\n",
    "        "
   ]
  },
  {
   "cell_type": "code",
   "execution_count": null,
   "id": "1c5f9a17-671b-469b-8e95-9803d78daac2",
   "metadata": {
    "tags": []
   },
   "outputs": [],
   "source": [
    "quiz 04 >\n",
    "quiz 03의 내용을 프로그램 시작시 읽어오고 프로그램 종료시에 저장"
   ]
  },
  {
   "cell_type": "code",
   "execution_count": 63,
   "id": "eefe6457-795a-4961-90ae-9869fbf70e4a",
   "metadata": {},
   "outputs": [
    {
     "name": "stdin",
     "output_type": "stream",
     "text": [
      "\n",
      "-------------------------------------------------------------------\n",
      "1. 메뉴입력  2. 메뉴수정  3. 메뉴목록  4. 메뉴삭제  5. 프로그램종료\n",
      "-------------------------------------------------------------------\n",
      "메뉴선택 >>>  3\n"
     ]
    },
    {
     "name": "stdout",
     "output_type": "stream",
     "text": [
      "------  menu  ------\n",
      "라떼 : 4,000\n",
      "코코아 : 3,500\n",
      "아이스아메리카노 : 3,000\n",
      "우유 : 2,000\n"
     ]
    },
    {
     "name": "stdin",
     "output_type": "stream",
     "text": [
      "\n",
      "-------------------------------------------------------------------\n",
      "1. 메뉴입력  2. 메뉴수정  3. 메뉴목록  4. 메뉴삭제  5. 프로그램종료\n",
      "-------------------------------------------------------------------\n",
      "메뉴선택 >>>  5\n"
     ]
    },
    {
     "name": "stdout",
     "output_type": "stream",
     "text": [
      "프로그램을 종료합니다.\n"
     ]
    }
   ],
   "source": [
    "import pickle\n",
    "\n",
    "f = open('menu.json','r')\n",
    "menu = json.load(f)\n",
    "f.close()\n",
    "\n",
    "# menu = {'아이스아메리카노':3000, '라떼':4000, '코코아':3500}\n",
    "while True:\n",
    "    choice = input('''\n",
    "-------------------------------------------------------------------\n",
    "1. 메뉴입력  2. 메뉴수정  3. 메뉴목록  4. 메뉴삭제  5. 프로그램종료\n",
    "-------------------------------------------------------------------\n",
    "메뉴선택 >>> ''')\n",
    "    if choice == '1':\n",
    "        print('현재메뉴 : ',list(menu.keys()))\n",
    "        name = input('추가할 메뉴명을 입력하세요 >>>')\n",
    "        price = 'a'\n",
    "        while not price.isdecimal():\n",
    "            price = input('추가할 메뉴의 가격을 입력하세요 >>>')\n",
    "        menu[name] = int(price)\n",
    "    elif choice == '2':\n",
    "        print('현재메뉴 : ',list(menu.keys()))\n",
    "        name = ''\n",
    "        while not name in menu.keys():\n",
    "            name = input('수정할 메뉴명을 입력하세요 >>>')\n",
    "        price = 'a'\n",
    "        while not price.isdecimal():\n",
    "            price = input('수정할 메뉴의 가격을 입력하세요 >>>')\n",
    "        menu[name] = int(price)\n",
    "    elif choice == '3':\n",
    "        print('------  menu  ------')\n",
    "        for item in sorted(menu.items(), key=lambda data:data[1],reverse=True):\n",
    "            print(f'{item[0]} : {item[1]:,}')\n",
    "    elif choice == '4':\n",
    "        print('현재메뉴 : ',list(menu.keys()))\n",
    "        name = ''\n",
    "        while not name in menu.keys():\n",
    "            name = input('삭제할 메뉴명을 입력하세요 >>>')\n",
    "        del menu[name]\n",
    "    elif choice == '5':\n",
    "        print('프로그램을 종료합니다.')\n",
    "        f = open('menu.json','w')\n",
    "        json.dump(menu,f)\n",
    "        f.close()\n",
    "        break\n",
    "    else:\n",
    "        print('메뉴를 잘못 선택 하셨습니다.')\n",
    "        \n"
   ]
  },
  {
   "cell_type": "code",
   "execution_count": 23,
   "id": "430ae757-13e7-4130-8fb3-070f19a7cbfa",
   "metadata": {},
   "outputs": [],
   "source": [
    "file = open('hello.txt','w')"
   ]
  },
  {
   "cell_type": "code",
   "execution_count": 24,
   "id": "fdc04e25-6596-40a0-b186-8ddfab7d482f",
   "metadata": {},
   "outputs": [
    {
     "data": {
      "text/plain": [
       "12"
      ]
     },
     "execution_count": 24,
     "metadata": {},
     "output_type": "execute_result"
    }
   ],
   "source": [
    "file.write('hello world!')"
   ]
  },
  {
   "cell_type": "code",
   "execution_count": 25,
   "id": "a814e4dd-bcfb-42f3-b858-a8c892b54b2b",
   "metadata": {},
   "outputs": [],
   "source": [
    "file.close()"
   ]
  },
  {
   "cell_type": "code",
   "execution_count": 36,
   "id": "a8b3a215-8253-4dcd-a14f-8631d13d27a1",
   "metadata": {},
   "outputs": [],
   "source": [
    "file = open('hello.txt','r')\n",
    "text = file.readlines()"
   ]
  },
  {
   "cell_type": "code",
   "execution_count": 37,
   "id": "419e1043-b7e1-4a88-8d4d-6e00c45b3601",
   "metadata": {},
   "outputs": [
    {
     "data": {
      "text/plain": [
       "['hello world!\\n',\n",
       " 'hello world!\\n',\n",
       " 'hello world!\\n',\n",
       " 'hello world!\\n',\n",
       " 'hello world!']"
      ]
     },
     "execution_count": 37,
     "metadata": {},
     "output_type": "execute_result"
    }
   ],
   "source": [
    "text"
   ]
  },
  {
   "cell_type": "code",
   "execution_count": 38,
   "id": "a97e923c-362d-49a6-9868-29345ff9070d",
   "metadata": {},
   "outputs": [],
   "source": [
    "file.close()"
   ]
  },
  {
   "cell_type": "code",
   "execution_count": 39,
   "id": "6c10b0a7-9206-4590-ab5f-4bbec7a9188a",
   "metadata": {},
   "outputs": [],
   "source": [
    "import pickle"
   ]
  },
  {
   "cell_type": "code",
   "execution_count": 40,
   "id": "c5e8755f-0677-4ddb-9278-0b1564f613f2",
   "metadata": {},
   "outputs": [
    {
     "data": {
      "text/plain": [
       "{'아이스아메리카노': 3000, '라떼': 4000, '코코아': 3500}"
      ]
     },
     "execution_count": 40,
     "metadata": {},
     "output_type": "execute_result"
    }
   ],
   "source": [
    "menu"
   ]
  },
  {
   "cell_type": "code",
   "execution_count": 42,
   "id": "80a9fc94-2e70-484d-b142-84ddcdae2f2b",
   "metadata": {},
   "outputs": [],
   "source": [
    "f = open('menu.pickle','wb')\n",
    "pickle.dump(menu,f)\n",
    "f.close()"
   ]
  },
  {
   "cell_type": "code",
   "execution_count": 43,
   "id": "82ae032e-290f-448c-971a-23c0437192d4",
   "metadata": {},
   "outputs": [],
   "source": [
    "f = open('menu.pickle','rb')\n",
    "data = pickle.load(f)\n",
    "f.close()"
   ]
  },
  {
   "cell_type": "code",
   "execution_count": 44,
   "id": "040ebd9e-e973-4ecb-b097-637e1a9f96a3",
   "metadata": {},
   "outputs": [
    {
     "data": {
      "text/plain": [
       "dict"
      ]
     },
     "execution_count": 44,
     "metadata": {},
     "output_type": "execute_result"
    }
   ],
   "source": [
    "type(data)"
   ]
  },
  {
   "cell_type": "code",
   "execution_count": 45,
   "id": "ba02f44f-4df4-4da8-ac70-c0ff5c19e52d",
   "metadata": {},
   "outputs": [
    {
     "data": {
      "text/plain": [
       "{'아이스아메리카노': 3000, '라떼': 4000, '코코아': 3500}"
      ]
     },
     "execution_count": 45,
     "metadata": {},
     "output_type": "execute_result"
    }
   ],
   "source": [
    "data"
   ]
  },
  {
   "cell_type": "code",
   "execution_count": 46,
   "id": "b853fb7e-622e-426f-85fd-2367466b5029",
   "metadata": {},
   "outputs": [],
   "source": [
    "import json"
   ]
  },
  {
   "cell_type": "code",
   "execution_count": 50,
   "id": "a25d5cc7-6a83-4da2-b6e4-fcec786c8b04",
   "metadata": {},
   "outputs": [],
   "source": [
    "f = open('menu.json','w')\n",
    "json.dump(menu,f)\n",
    "f.close()"
   ]
  },
  {
   "cell_type": "code",
   "execution_count": 51,
   "id": "adbb8c0f-eb2b-4e5a-b3b7-1d64ed0701ed",
   "metadata": {},
   "outputs": [],
   "source": [
    "f = open('menu.json','r')\n",
    "data = json.load(f)\n",
    "f.close()"
   ]
  },
  {
   "cell_type": "code",
   "execution_count": 52,
   "id": "4ad84e50-239f-4e84-9538-8255b3f82f6e",
   "metadata": {},
   "outputs": [
    {
     "data": {
      "text/plain": [
       "dict"
      ]
     },
     "execution_count": 52,
     "metadata": {},
     "output_type": "execute_result"
    }
   ],
   "source": [
    "type(data)"
   ]
  },
  {
   "cell_type": "code",
   "execution_count": 53,
   "id": "89a48cbc-804e-433e-b0c5-4c63c41bb2fb",
   "metadata": {},
   "outputs": [
    {
     "data": {
      "text/plain": [
       "{'아이스아메리카노': 3000, '라떼': 4000, '코코아': 3500}"
      ]
     },
     "execution_count": 53,
     "metadata": {},
     "output_type": "execute_result"
    }
   ],
   "source": [
    "data"
   ]
  },
  {
   "cell_type": "raw",
   "id": "c3d1384d-6ce9-474c-b960-210b7815e76d",
   "metadata": {},
   "source": [
    "quiz 05 >\n",
    "타자게임\n",
    "- 데이터는 word = [\"cat\",\"dog\",\"fox\",\"monkey\",\"mouse\",\"panda\",\"frog\",\"snake\",\"wolf\"]\n",
    "- 문제는 총 5문제가 나옵니다.\n",
    "- 나온 문제는 맞출때까지 계속 됩니다.\n",
    "- 문제를 맞추면 다음 문제가 나옵니다.\n",
    "- 걸린 시간을 보여줍니다."
   ]
  },
  {
   "cell_type": "code",
   "execution_count": 94,
   "id": "255c2ffc-28d7-4350-b4e9-88a35d8c7100",
   "metadata": {},
   "outputs": [
    {
     "name": "stdin",
     "output_type": "stream",
     "text": [
      "시작!(enter) \n"
     ]
    },
    {
     "name": "stdout",
     "output_type": "stream",
     "text": [
      "1번\n",
      "fox\n"
     ]
    },
    {
     "name": "stdin",
     "output_type": "stream",
     "text": [
      " fox\n"
     ]
    },
    {
     "name": "stdout",
     "output_type": "stream",
     "text": [
      "통과!\n",
      "2번\n",
      "fox\n"
     ]
    },
    {
     "name": "stdin",
     "output_type": "stream",
     "text": [
      " fox\n"
     ]
    },
    {
     "name": "stdout",
     "output_type": "stream",
     "text": [
      "통과!\n",
      "3번\n",
      "panda\n"
     ]
    },
    {
     "name": "stdin",
     "output_type": "stream",
     "text": [
      " panda\n"
     ]
    },
    {
     "name": "stdout",
     "output_type": "stream",
     "text": [
      "통과!\n",
      "4번\n",
      "panda\n"
     ]
    },
    {
     "name": "stdin",
     "output_type": "stream",
     "text": [
      " panda\n"
     ]
    },
    {
     "name": "stdout",
     "output_type": "stream",
     "text": [
      "통과!\n",
      "5번\n",
      "fox\n"
     ]
    },
    {
     "name": "stdin",
     "output_type": "stream",
     "text": [
      " fox\n"
     ]
    },
    {
     "name": "stdout",
     "output_type": "stream",
     "text": [
      "통과!\n",
      "5문제 다 맞췄습니다.\n",
      "걸린시간:17초\n"
     ]
    }
   ],
   "source": [
    "import random,time\n",
    "\n",
    "word = [\"cat\",\"dog\",\"fox\",\"monkey\",\"mouse\",\"panda\",\"frog\",\"snake\",\"wolf\"]\n",
    "n=1\n",
    "quiz = random.choice(word)\n",
    "input('시작!(enter)')\n",
    "start = time.time()\n",
    "while n <= 5:\n",
    "    print(f'{n}번')\n",
    "    print(quiz)\n",
    "    x = input()\n",
    "    if quiz == x:\n",
    "        print('통과!')\n",
    "        n += 1\n",
    "        quiz = random.choice(word)\n",
    "    else:\n",
    "        print('오타! 다시도전!')\n",
    "print('5문제 다 맞췄습니다.')\n",
    "end = time.time()\n",
    "print(f'걸린시간:{end-start:.0f}초')"
   ]
  },
  {
   "cell_type": "code",
   "execution_count": 64,
   "id": "b37ec856-f744-43a0-b019-21451572f803",
   "metadata": {},
   "outputs": [],
   "source": [
    "import random"
   ]
  },
  {
   "cell_type": "code",
   "execution_count": 65,
   "id": "bbfa0a3a-b21b-4926-987f-9347d86d6a1f",
   "metadata": {},
   "outputs": [],
   "source": [
    "word = [\"cat\",\"dog\",\"fox\",\"monkey\",\"mouse\",\"panda\",\"frog\",\"snake\",\"wolf\"]"
   ]
  },
  {
   "cell_type": "code",
   "execution_count": 69,
   "id": "773adc49-f6f8-40ad-b608-5c517585440d",
   "metadata": {},
   "outputs": [
    {
     "data": {
      "text/plain": [
       "'frog'"
      ]
     },
     "execution_count": 69,
     "metadata": {},
     "output_type": "execute_result"
    }
   ],
   "source": [
    "random.choice(word)"
   ]
  },
  {
   "cell_type": "code",
   "execution_count": 73,
   "id": "4143022c-fba9-4d1d-94f0-05fa27e07aa7",
   "metadata": {},
   "outputs": [
    {
     "data": {
      "text/plain": [
       "'dog'"
      ]
     },
     "execution_count": 73,
     "metadata": {},
     "output_type": "execute_result"
    }
   ],
   "source": [
    "word[random.randint(0,len(word)-1)]"
   ]
  },
  {
   "cell_type": "code",
   "execution_count": 89,
   "id": "36c7febe-a88a-4854-af77-5e3c5736bf7c",
   "metadata": {},
   "outputs": [
    {
     "data": {
      "text/plain": [
       "'frog'"
      ]
     },
     "execution_count": 89,
     "metadata": {},
     "output_type": "execute_result"
    }
   ],
   "source": [
    "data"
   ]
  },
  {
   "cell_type": "raw",
   "id": "56dfac78-3bd7-487e-bac4-f7da8d24d10c",
   "metadata": {},
   "source": [
    "quiz 06 >\n",
    "앞에 타자 게임을 활용\n",
    "- 1. 문제추가 2. 타자게임 3. 등수리스트 4. 종료하기\n",
    "- 문제추가 후 데이터는 파일 저장\n",
    "- 문제추가는 단어를 입력받아서 중복되지 않게 추가, 종료 전까지 계속 추가 작업 진행\n",
    "- 타자게임은 시간을 체크하고, 걸린시간을 사용자명과 함께 저장합니다. (딕셔너리로 저장:등수데이터)\n",
    "- 등수리스트는 걸린시간이 적은 순서대로 정렬해서 출력합니다.\n",
    "- 종료하기는 등수데이터를 저장하고 진행합니다.\n",
    "- 프로그램이 시작될 때 문제와 등수정보를 읽어 옵니다."
   ]
  },
  {
   "cell_type": "code",
   "execution_count": 39,
   "id": "0b8dd576-bbcd-4e8a-b74e-0d1d6c7cfcd8",
   "metadata": {},
   "outputs": [
    {
     "name": "stdin",
     "output_type": "stream",
     "text": [
      "\n",
      "----------------------------------------------------\n",
      "1. 문제추가  2. 타자게임  3. 등수리스트  4. 종료하기 \n",
      "----------------------------------------------------\n",
      "메뉴선택 >>>  3\n"
     ]
    },
    {
     "name": "stdout",
     "output_type": "stream",
     "text": [
      "1등 eee 8.01\n",
      "2등 bbb 8.25\n",
      "3등 ccc 8.84\n",
      "4등 ddd 10.05\n",
      "5등 aaa 10.11\n"
     ]
    },
    {
     "name": "stdin",
     "output_type": "stream",
     "text": [
      "\n",
      "----------------------------------------------------\n",
      "1. 문제추가  2. 타자게임  3. 등수리스트  4. 종료하기 \n",
      "----------------------------------------------------\n",
      "메뉴선택 >>>  4\n"
     ]
    },
    {
     "name": "stdout",
     "output_type": "stream",
     "text": [
      "프로그램을 종료합니다.\n"
     ]
    }
   ],
   "source": [
    "import random,time,json\n",
    "\n",
    "# word = [\"cat\",\"dog\",\"fox\",\"monkey\",\"mouse\",\"panda\",\"frog\",\"snake\",\"wolf\"]\n",
    "# rank = {'aaa':10.111}\n",
    "\n",
    "with open('word.json','r') as f:\n",
    "    word = json.load(f)\n",
    "with open('rank.json','r') as f:\n",
    "    rank = json.load(f)\n",
    "\n",
    "while True:\n",
    "    menu = input('''\n",
    "----------------------------------------------------\n",
    "1. 문제추가  2. 타자게임  3. 등수리스트  4. 종료하기 \n",
    "----------------------------------------------------\n",
    "메뉴선택 >>> ''')\n",
    "    if menu == '1':\n",
    "        while True:\n",
    "            quiz = input('추가할 단어를 입력(종료:0) >>>')\n",
    "            while quiz in word:\n",
    "                quiz = input('중복된 단어 입니다. 다시 입력(종료:0) >>>')\n",
    "            if quiz == '0':\n",
    "                break\n",
    "            word.append(quiz)\n",
    "            print(word)\n",
    "        with open('word.json','w') as f:\n",
    "            json.dump(word,f)\n",
    "    elif menu == '2':\n",
    "        n=1\n",
    "        quiz = random.choice(word)\n",
    "        input('시작!(enter)')\n",
    "        start = time.time()\n",
    "        while n <= 5:\n",
    "            print(f'{n}번')\n",
    "            print(quiz)\n",
    "            x = input()\n",
    "            if quiz == x:\n",
    "                print('통과!')\n",
    "                n += 1\n",
    "                quiz = random.choice(word)\n",
    "            else:\n",
    "                print('오타! 다시도전!')\n",
    "        print('5문제 다 맞췄습니다.')\n",
    "        end = time.time()\n",
    "        print(f'걸린시간:{end-start:.0f}초')\n",
    "        name = input('사용자명을 입력하세요 >>>')\n",
    "        while name in rank:\n",
    "            name = input('사용자명이 중복됩니다. 다른 이름을 입력하세요. >>>')\n",
    "        rank[name] = end-start\n",
    "        print(rank)\n",
    "    elif menu == '3':\n",
    "        ranklist = sorted(rank.items(),key=lambda x:x[1])\n",
    "        for index,item in enumerate(ranklist):\n",
    "            print(f'{index+1}등 {item[0]} {item[1]:.2f}')\n",
    "    elif menu == '4':\n",
    "        print('프로그램을 종료합니다.')\n",
    "        with open('rank.json','w') as f:\n",
    "            json.dump(rank,f)\n",
    "        break\n",
    "    else:\n",
    "        print('메뉴를 잘못 선택 하셨습니다.')"
   ]
  },
  {
   "cell_type": "raw",
   "id": "c9f938b6-8cee-433e-8d06-974b704edeb5",
   "metadata": {},
   "source": [
    "DVD 재고관리\n",
    "1. DVD 추가 2. DVD 수정 3. DVD 목록 4. DVD 구매 5. 프로그램 종료\n",
    "- DVD 추가 : DVD 이름과 가격을 입력받아서 저장\n",
    "- DVD 수정 : DVD 이름을 확인하고 있는 DVD에 가격을 입력받아 수정\n",
    "- DVD 목록 : 저장된 DVD명과 가격을 출력(천단위구분기호표기), DVD명 순서대로 출력\n",
    "- DVD 구매 : DVD 구매 시 거스름돈을 맞게 돌려주고 목록에서 삭제\n",
    "- 프로그램 종료 : 프로그램을 종료하는 메시지를 출력하고 종료\n",
    "- 메뉴1~5까지만 입력받고 다른 값이 들어오면 관련 에러 메시지를 출력한다.\n",
    "- 가격은 숫자로 입력해야됨"
   ]
  },
  {
   "cell_type": "code",
   "execution_count": 82,
   "id": "4135ab5f-ea01-4bf4-84a1-d9a9f475ead0",
   "metadata": {},
   "outputs": [
    {
     "name": "stdin",
     "output_type": "stream",
     "text": [
      "\n",
      "1. DVD추가  2. DVD수정  3. DVD목록  4. DVD구매  5. 프로그램종료\n",
      "메뉴선택 >>>  5\n"
     ]
    },
    {
     "name": "stdout",
     "output_type": "stream",
     "text": [
      "프로그램을 종료합니다.\n"
     ]
    }
   ],
   "source": [
    "import json\n",
    "\n",
    "f = open('DVD.json','r')\n",
    "DVD = json.load(f)\n",
    "f.close()\n",
    "\n",
    "#DVD = {'핑구':50000, '짱구':70000, '패트와 매트':100000, '포켓몬스터':90000}\n",
    "while True:\n",
    "    choice = input('''\n",
    "1. DVD추가  2. DVD수정  3. DVD목록  4. DVD구매  5. 프로그램종료\n",
    "메뉴선택 >>> ''')\n",
    "    if choice == '1':\n",
    "        print('현재 DVD 목록 : ',list(DVD.keys()))\n",
    "        name = input('추가할 DVD 제목을 입력하세요 >>>')\n",
    "        price = 'a'\n",
    "        while not price.isdecimal():\n",
    "            price = input('추가할 DVD의 가격을 입력하세요 >>>')\n",
    "        DVD[name] = int(price)\n",
    "    elif choice == '2':\n",
    "        print('현재 DVD 목록 : ',list(DVD.keys()))\n",
    "        name = ''\n",
    "        while not name in DVD.keys():\n",
    "            name = input('수정할 DVD 제목을 입력하세요 >>>')\n",
    "        price = 'a'\n",
    "        while not price.isdecimal():\n",
    "            price = input('수정할 DVD의 가격을 입력하세요 >>>')\n",
    "        DVD[name] = int(price)\n",
    "    elif choice == '3':\n",
    "        print('------  DVD  ------')\n",
    "        for item in sorted(DVD.items(), key=lambda data:data[1],reverse=True):\n",
    "            print(f'{item[0]} : {item[1]:,}')\n",
    "    elif choice == '4':\n",
    "        print('현재 DVD 목록 : ',list(DVD.keys()))\n",
    "        title=input('구매할 DVD 제목을 입력하세요 >>>')\n",
    "        while not title in DVD:\n",
    "                title = input('없는 DVD 입니다. 다시 입력하세요. >>>')\n",
    "        price=DVD[title]\n",
    "        print(f'DVD의 가격은 {price}원 입니다.')\n",
    "        \n",
    "        money=input('지불할 금액을 입력하세요 >>>')\n",
    "        money=int(money)\n",
    "        while money<price:\n",
    "            money=int(input('금액이 부족합니다. 다시 입력하세요. >>>'))\n",
    "        last=money-price\n",
    "        print(f'잔돈은 {last}원 입니다.')\n",
    "        name = ''\n",
    "        print(f'{title}이(가) 목록에서 삭제됩니다.')\n",
    "        del DVD[title]\n",
    "    elif choice == '5':\n",
    "        print('프로그램을 종료합니다.')\n",
    "        f = open('DVD.json','w')\n",
    "        json.dump(DVD,f)\n",
    "        f.close()\n",
    "        break\n",
    "    else:\n",
    "        print('메뉴를 잘못 선택 하셨습니다.')\n",
    "        "
   ]
  },
  {
   "cell_type": "code",
   "execution_count": null,
   "id": "f79d3d5e-81e6-42c2-b4c7-06814ef6acb1",
   "metadata": {},
   "outputs": [],
   "source": []
  }
 ],
 "metadata": {
  "kernelspec": {
   "display_name": "Python 3 (ipykernel)",
   "language": "python",
   "name": "python3"
  },
  "language_info": {
   "codemirror_mode": {
    "name": "ipython",
    "version": 3
   },
   "file_extension": ".py",
   "mimetype": "text/x-python",
   "name": "python",
   "nbconvert_exporter": "python",
   "pygments_lexer": "ipython3",
   "version": "3.9.12"
  }
 },
 "nbformat": 4,
 "nbformat_minor": 5
}
